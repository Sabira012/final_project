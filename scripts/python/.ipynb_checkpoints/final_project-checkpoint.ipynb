{
 "cells": [
  {
   "cell_type": "code",
   "execution_count": 24,
   "id": "d23c4843",
   "metadata": {},
   "outputs": [
    {
     "name": "stdout",
     "output_type": "stream",
     "text": [
      "   v1   price     area       subarea                      name  condition  \\\n",
      "0   1   $4990  chicago  chicago city  2007 Toyota Camry Hybrid       good   \n",
      "1   2  $10625  chicago  chicago city  2009 Toyota Camry Hybrid        NaN   \n",
      "2   3     NaN  chicago  chicago city         2010 Toyota Camry  excellent   \n",
      "3   4  $14850  chicago  chicago city       2015 Toyota_ Camry_  excellent   \n",
      "4   5  $15630  chicago  chicago city         2016 TOYOTA CAMRY        NaN   \n",
      "\n",
      "     cylinders drive    fuel  odometer paintcolor      size transmission  \\\n",
      "0  4 cylinders   fwd     gas  116236.0       grey       NaN    automatic   \n",
      "1  4 cylinders   fwd  hybrid   43702.0       grey       NaN    automatic   \n",
      "2          NaN   fwd     gas  140437.0      white  mid-size          NaN   \n",
      "3        other   NaN     gas   35721.0        NaN       NaN    automatic   \n",
      "4          NaN   fwd     gas   13152.0        NaN       NaN    automatic   \n",
      "\n",
      "    type  dealer  \n",
      "0  sedan       1  \n",
      "1  sedan       1  \n",
      "2  sedan       1  \n",
      "3  sedan       1  \n",
      "4  sedan       1  \n",
      "<class 'pandas.core.frame.DataFrame'>\n",
      "RangeIndex: 1095 entries, 0 to 1094\n",
      "Data columns (total 15 columns):\n",
      " #   Column        Non-Null Count  Dtype  \n",
      "---  ------        --------------  -----  \n",
      " 0   v1            1095 non-null   int64  \n",
      " 1   price         1011 non-null   object \n",
      " 2   area          1095 non-null   object \n",
      " 3   subarea       1061 non-null   object \n",
      " 4   name          1095 non-null   object \n",
      " 5   condition     659 non-null    object \n",
      " 6   cylinders     721 non-null    object \n",
      " 7   drive         605 non-null    object \n",
      " 8   fuel          1093 non-null   object \n",
      " 9   odometer      764 non-null    float64\n",
      " 10  paintcolor    630 non-null    object \n",
      " 11  size          369 non-null    object \n",
      " 12  transmission  1093 non-null   object \n",
      " 13  type          640 non-null    object \n",
      " 14  dealer        1095 non-null   int64  \n",
      "dtypes: float64(1), int64(2), object(12)\n",
      "memory usage: 128.4+ KB\n",
      "None\n",
      "                 v1  price     area       subarea               name  \\\n",
      "count   1095.000000   1011     1095          1061               1095   \n",
      "unique          NaN    270        2            12                261   \n",
      "top             NaN  $7500  chicago  chicago city  2009 toyota camry   \n",
      "freq            NaN     35      668           283                 38   \n",
      "mean     578.356164    NaN      NaN           NaN                NaN   \n",
      "std      342.664310    NaN      NaN           NaN                NaN   \n",
      "min        1.000000    NaN      NaN           NaN                NaN   \n",
      "25%      284.500000    NaN      NaN           NaN                NaN   \n",
      "50%      565.000000    NaN      NaN           NaN                NaN   \n",
      "75%      866.000000    NaN      NaN           NaN                NaN   \n",
      "max     1199.000000    NaN      NaN           NaN                NaN   \n",
      "\n",
      "        condition    cylinders drive  fuel      odometer paintcolor      size  \\\n",
      "count         659          721   605  1093  7.640000e+02        630       369   \n",
      "unique          5            4     3     4           NaN         10         4   \n",
      "top     excellent  4 cylinders   fwd   gas           NaN      black  mid-size   \n",
      "freq          326          552   587  1031           NaN        141       181   \n",
      "mean          NaN          NaN   NaN   NaN  1.108023e+05        NaN       NaN   \n",
      "std           NaN          NaN   NaN   NaN  7.520605e+04        NaN       NaN   \n",
      "min           NaN          NaN   NaN   NaN  0.000000e+00        NaN       NaN   \n",
      "25%           NaN          NaN   NaN   NaN  6.462800e+04        NaN       NaN   \n",
      "50%           NaN          NaN   NaN   NaN  1.130795e+05        NaN       NaN   \n",
      "75%           NaN          NaN   NaN   NaN  1.530308e+05        NaN       NaN   \n",
      "max           NaN          NaN   NaN   NaN  1.180000e+06        NaN       NaN   \n",
      "\n",
      "       transmission   type       dealer  \n",
      "count          1093    640  1095.000000  \n",
      "unique            3      7          NaN  \n",
      "top       automatic  sedan          NaN  \n",
      "freq           1075    564          NaN  \n",
      "mean            NaN    NaN     0.305023  \n",
      "std             NaN    NaN     0.460627  \n",
      "min             NaN    NaN     0.000000  \n",
      "25%             NaN    NaN     0.000000  \n",
      "50%             NaN    NaN     0.000000  \n",
      "75%             NaN    NaN     1.000000  \n",
      "max             NaN    NaN     1.000000  \n"
     ]
    }
   ],
   "source": [
    "import pandas as pd\n",
    "\n",
    "# First, we need to load the dataset\n",
    "data = pd.read_csv('C:/Users/Onbayeva_Sabira/Desktop/final_project/data/used_cars_2cities.csv')\n",
    "\n",
    "# Inspecting the first few rows and summary info\n",
    "print(data.head())\n",
    "print(data.info())\n",
    "print(data.describe(include='all'))  # Include all columns to see non-numeric summaries as well"
   ]
  },
  {
   "cell_type": "code",
   "execution_count": 25,
   "id": "9873005a",
   "metadata": {},
   "outputs": [],
   "source": [
    "# I would like to define the columns to clean and their unwanted symbols\n",
    "columns_to_clean = {\n",
    "    'price': '$',         # Remove $ from price\n",
    "    'cylinders': ' cylinders'  # Remove \"cylinders\" from cylinders\n",
    "}\n",
    "\n",
    "# Let's automate the cleaning with a loop\n",
    "for col, symbol in columns_to_clean.items():\n",
    "    data[col] = data[col].str.replace(symbol, '', regex=False)"
   ]
  },
  {
   "cell_type": "code",
   "execution_count": 27,
   "id": "f63eef1a",
   "metadata": {},
   "outputs": [],
   "source": [
    "# Replacing 'NA' with NaN\n",
    "data.replace(\"NA\", pd.NA, inplace=True)\n",
    "\n",
    "# Dropping rows with missing values in key columns\n",
    "columns_with_missing = ['price', 'subarea', 'condition', 'cylinders', 'drive', 'paintcolor', 'size', 'type', 'odometer']\n",
    "data.dropna(subset=columns_with_missing, inplace=True)"
   ]
  },
  {
   "cell_type": "code",
   "execution_count": 29,
   "id": "27ad79f3",
   "metadata": {},
   "outputs": [],
   "source": [
    "# Converting odometer, price, and cylinders to numeric\n",
    "data['odometer'] = pd.to_numeric(data['odometer'], errors='coerce')\n",
    "data['price'] = pd.to_numeric(data['price'], errors='coerce')\n",
    "data['cylinders'] = pd.to_numeric(data['cylinders'], errors='coerce')"
   ]
  },
  {
   "cell_type": "code",
   "execution_count": 31,
   "id": "3d7785e4",
   "metadata": {},
   "outputs": [],
   "source": [
    "# Filtering for cars under $10,000\n",
    "data = data[data['price'] < 10000]\n",
    "\n",
    "# I would like to select a subset of columns for analysis\n",
    "data = data[['price', 'odometer', 'cylinders', 'condition', 'type']]"
   ]
  },
  {
   "cell_type": "code",
   "execution_count": 33,
   "id": "c5c7d90d",
   "metadata": {},
   "outputs": [],
   "source": [
    "# Adding a new column for price per mile\n",
    "data['price_per_mile'] = data['price'] / data['odometer']"
   ]
  },
  {
   "cell_type": "code",
   "execution_count": 19,
   "id": "15421213",
   "metadata": {},
   "outputs": [],
   "source": [
    "# Saving the cleaned data\n",
    "data.to_csv('C:/Users/Onbayeva_Sabira/Desktop/final_project/data/filtered_sample.csv', index=False)"
   ]
  },
  {
   "cell_type": "code",
   "execution_count": 36,
   "id": "255a4701",
   "metadata": {},
   "outputs": [],
   "source": [
    "# Creating Summary Statistics and a Graph\n",
    "\n",
    "summary_stats = data.describe()\n",
    "summary_stats.to_csv('C:/Users/Onbayeva_Sabira/Desktop/final_project/output/tables/summary_statistics.csv')\n",
    "import matplotlib.pyplot as plt\n",
    "import seaborn as sns"
   ]
  },
  {
   "cell_type": "code",
   "execution_count": 42,
   "id": "f5927ab6",
   "metadata": {},
   "outputs": [
    {
     "data": {
      "text/plain": [
       "Text(0, 0.5, 'Frequency')"
      ]
     },
     "execution_count": 42,
     "metadata": {},
     "output_type": "execute_result"
    },
    {
     "data": {
      "image/png": "[encoded data removed]",
      "text/plain": [
       "<Figure size 432x288 with 1 Axes>"
      ]
     },
     "metadata": {
      "needs_background": "light"
     },
     "output_type": "display_data"
    }
   ],
   "source": [
    "import matplotlib.pyplot as plt\n",
    "\n",
    "plt.hist(data['price'], bins=30, color='skyblue', edgecolor='black')\n",
    "plt.title('Price Distribution')\n",
    "plt.xlabel('Price')\n",
    "plt.ylabel('Frequency')"
   ]
  },
  {
   "cell_type": "code",
   "execution_count": null,
   "id": "a191d929",
   "metadata": {},
   "outputs": [],
   "source": [
    "# Let's save the plot to the output/graphs folder\n",
    "plt.savefig(\"C:/Users/Onbayeva_Sabira/Desktop/final_project/output/graphs/price_distribution.png\", format='png', dpi=300, bbox_inches='tight')\n",
    "plt.close() "
   ]
  }
 ],
 "metadata": {
  "kernelspec": {
   "display_name": "Python 3 (ipykernel)",
   "language": "python",
   "name": "python3"
  },
  "language_info": {
   "codemirror_mode": {
    "name": "ipython",
    "version": 3
   },
   "file_extension": ".py",
   "mimetype": "text/x-python",
   "name": "python",
   "nbconvert_exporter": "python",
   "pygments_lexer": "ipython3",
   "version": "3.9.12"
  }
 },
 "nbformat": 4,
 "nbformat_minor": 5
}
